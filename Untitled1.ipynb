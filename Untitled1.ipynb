{
 "cells": [
  {
   "cell_type": "code",
   "execution_count": null,
   "id": "feba38ff-633d-45c4-899a-562cff994e4f",
   "metadata": {},
   "outputs": [],
   "source": [
    "# \n",
    "# latent z + coordinates -> CPPN -> small image -> scale up -> 224x224 image\n",
    "\n",
    "\n",
    "# can we enforce that all z's lead to \"trees\" (CLIP objective to tree is minimized\n",
    "# can we enforce that all z's are visually distince (maximize lpips loss)"
   ]
  },
  {
   "cell_type": "code",
   "execution_count": null,
   "id": "7911446f-2d8b-475e-a4fe-7dbda2adf8dc",
   "metadata": {},
   "outputs": [],
   "source": []
  },
  {
   "cell_type": "code",
   "execution_count": null,
   "id": "f82fcb10-7cf4-4fb7-ad49-45d401583e76",
   "metadata": {},
   "outputs": [],
   "source": []
  },
  {
   "cell_type": "code",
   "execution_count": null,
   "id": "ff9b8511-5a9c-4fa1-82c6-3932b5292596",
   "metadata": {},
   "outputs": [],
   "source": []
  },
  {
   "cell_type": "code",
   "execution_count": null,
   "id": "ad48b4c0-96d0-45da-838b-f655bdf69794",
   "metadata": {},
   "outputs": [],
   "source": []
  },
  {
   "cell_type": "code",
   "execution_count": null,
   "id": "90d70d3d-727b-409f-b784-acda9e647858",
   "metadata": {},
   "outputs": [],
   "source": []
  },
  {
   "cell_type": "code",
   "execution_count": null,
   "id": "8d7450ff-8bd7-4199-9815-ca3e1452965d",
   "metadata": {},
   "outputs": [],
   "source": []
  },
  {
   "cell_type": "code",
   "execution_count": null,
   "id": "f97a9599-3600-4910-9d97-b4b6cd76020d",
   "metadata": {},
   "outputs": [],
   "source": []
  },
  {
   "cell_type": "code",
   "execution_count": null,
   "id": "90bdb9ac-c3d3-4c70-990d-a7cf73dc7c44",
   "metadata": {},
   "outputs": [],
   "source": []
  },
  {
   "cell_type": "code",
   "execution_count": null,
   "id": "5f2320cd-d568-412d-b213-ba7b6c21336a",
   "metadata": {},
   "outputs": [],
   "source": []
  }
 ],
 "metadata": {
  "kernelspec": {
   "display_name": "Python 3 (ipykernel)",
   "language": "python",
   "name": "python3"
  },
  "language_info": {
   "codemirror_mode": {
    "name": "ipython",
    "version": 3
   },
   "file_extension": ".py",
   "mimetype": "text/x-python",
   "name": "python",
   "nbconvert_exporter": "python",
   "pygments_lexer": "ipython3",
   "version": "3.9.12"
  }
 },
 "nbformat": 4,
 "nbformat_minor": 5
}
