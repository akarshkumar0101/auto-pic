{
 "cells": [
  {
   "cell_type": "code",
   "execution_count": null,
   "id": "feba38ff-633d-45c4-899a-562cff994e4f",
   "metadata": {},
   "outputs": [],
   "source": [
    "# \n",
    "# latent z + coordinates -> CPPN -> small image -> scale up -> 224x224 image\n",
    "\n",
    "\n",
    "# can we enforce that all z's lead to \"trees\" (CLIP objective to tree is minimized\n",
    "# can we enforce that all z's are visually distince (maximize lpips loss)"
   ]
  },
  {
   "cell_type": "code",
   "execution_count": 1,
   "id": "7911446f-2d8b-475e-a4fe-7dbda2adf8dc",
   "metadata": {},
   "outputs": [],
   "source": [
    "import argparse"
   ]
  },
  {
   "cell_type": "code",
   "execution_count": 21,
   "id": "f82fcb10-7cf4-4fb7-ad49-45d401583e76",
   "metadata": {},
   "outputs": [
    {
     "data": {
      "text/plain": [
       "_StoreAction(option_strings=['--exp_name'], dest='exp_name', nargs=None, const=None, default=None, type=<class 'str'>, choices=None, help=None, metavar=None)"
      ]
     },
     "execution_count": 21,
     "metadata": {},
     "output_type": "execute_result"
    }
   ],
   "source": [
    "parser = argparse.ArgumentParser(description='Run CLIP Optimization')\n",
    "parser.add_argument('--exp_name', type=str, default=None)"
   ]
  },
  {
   "cell_type": "code",
   "execution_count": 24,
   "id": "f97a9599-3600-4910-9d97-b4b6cd76020d",
   "metadata": {},
   "outputs": [
    {
     "name": "stderr",
     "output_type": "stream",
     "text": [
      "usage: ipykernel_launcher.py [-h] [--exp_name EXP_NAME]\n",
      "ipykernel_launcher.py: error: unrecognized arguments: how are you\n"
     ]
    },
    {
     "ename": "SystemExit",
     "evalue": "2",
     "output_type": "error",
     "traceback": [
      "An exception has occurred, use %tb to see the full traceback.\n",
      "\u001b[0;31mSystemExit\u001b[0m\u001b[0;31m:\u001b[0m 2\n"
     ]
    }
   ],
   "source": [
    "args = parser.parse_args('--exp_name hello how are you'.split())"
   ]
  },
  {
   "cell_type": "code",
   "execution_count": 18,
   "id": "88928e39-1ca5-4347-9330-4e316ab08079",
   "metadata": {},
   "outputs": [
    {
     "data": {
      "text/plain": [
       "Namespace(exp_name='hello')"
      ]
     },
     "execution_count": 18,
     "metadata": {},
     "output_type": "execute_result"
    }
   ],
   "source": [
    "args"
   ]
  },
  {
   "cell_type": "code",
   "execution_count": 36,
   "id": "aa8dcb29-05e3-4ed5-bbbb-4731449f63f7",
   "metadata": {},
   "outputs": [],
   "source": [
    "hello ='4'"
   ]
  },
  {
   "cell_type": "code",
   "execution_count": null,
   "id": "37c89efb-ae9f-4121-8159-30756c5a0cd3",
   "metadata": {},
   "outputs": [],
   "source": []
  },
  {
   "cell_type": "code",
   "execution_count": null,
   "id": "37bab74c-6666-429a-ad6f-6f893b1164ac",
   "metadata": {},
   "outputs": [],
   "source": []
  },
  {
   "cell_type": "code",
   "execution_count": null,
   "id": "5f2320cd-d568-412d-b213-ba7b6c21336a",
   "metadata": {},
   "outputs": [],
   "source": []
  }
 ],
 "metadata": {
  "kernelspec": {
   "display_name": "Python 3 (ipykernel)",
   "language": "python",
   "name": "python3"
  },
  "language_info": {
   "codemirror_mode": {
    "name": "ipython",
    "version": 3
   },
   "file_extension": ".py",
   "mimetype": "text/x-python",
   "name": "python",
   "nbconvert_exporter": "python",
   "pygments_lexer": "ipython3",
   "version": "3.9.12"
  }
 },
 "nbformat": 4,
 "nbformat_minor": 5
}
