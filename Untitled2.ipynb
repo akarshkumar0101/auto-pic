{
 "cells": [
  {
   "cell_type": "code",
   "execution_count": 7,
   "id": "c1e86fad-2da2-4876-b656-842480968039",
   "metadata": {},
   "outputs": [],
   "source": [
    "import numpy as np\n",
    "import torch\n",
    "from torch import nn\n",
    "from einops import rearrange"
   ]
  },
  {
   "cell_type": "code",
   "execution_count": null,
   "id": "b759b3c7-d57a-4d5a-a4e6-f886852f282a",
   "metadata": {},
   "outputs": [],
   "source": []
  },
  {
   "cell_type": "code",
   "execution_count": null,
   "id": "d5f0f733-8fc7-42df-a955-a8a5042849e3",
   "metadata": {},
   "outputs": [],
   "source": []
  },
  {
   "cell_type": "code",
   "execution_count": 111,
   "id": "2dacbd89-00e0-4e33-a416-05f509300631",
   "metadata": {},
   "outputs": [
    {
     "data": {
      "text/plain": [
       "True"
      ]
     },
     "execution_count": 111,
     "metadata": {},
     "output_type": "execute_result"
    }
   ],
   "source": [
    "class MultiHeadAttention(nn.Module):\n",
    "    def __init__(self, d_model, n_heads, d_k=None, d_v=None, dropout=0.1):\n",
    "        super().__init__()\n",
    "        self.d_model, self.n_heads = d_model, n_heads\n",
    "        if d_k is None:\n",
    "            d_k = self.d_model//self.n_heads\n",
    "            d_v = self.d_model//self.n_heads\n",
    "\n",
    "        self.w_qs = nn.Linear(d_model, n_heads * d_k)\n",
    "        self.w_ks = nn.Linear(d_model, n_heads * d_k)\n",
    "        self.w_vs = nn.Linear(d_model, n_heads * d_v)\n",
    "\n",
    "        # nn.init.normal_(self.w_qs.weight, mean=0, std=np.sqrt(2.0 / (d_model + d_k)))\n",
    "        # nn.init.normal_(self.w_ks.weight, mean=0, std=np.sqrt(2.0 / (d_model + d_k)))\n",
    "        # nn.init.normal_(self.w_vs.weight, mean=0, std=np.sqrt(2.0 / (d_model + d_v)))\n",
    "\n",
    "        self.fc = nn.Linear(n_heads * d_v, d_model)\n",
    "        nn.init.xavier_normal_(self.fc.weight)\n",
    "        self.dropout = nn.Dropout(p=dropout)\n",
    "\n",
    "    def forward(self, query, key=None, value=None, mask='causal', alibi=False):\n",
    "        if key is None:\n",
    "            key = query\n",
    "        if value is None:\n",
    "            value = query\n",
    "        q = rearrange(self.w_qs(query), 'b l (head q) -> b head l q', head=self.n_heads)\n",
    "        k = rearrange(self.w_ks(key), 'b t (head k) -> b head t k', head=self.n_heads)\n",
    "        v = rearrange(self.w_vs(value), 'b t (head v) -> b head t v', head=self.n_heads)\n",
    "        attn = torch.einsum('bhlk,bhtk->bhlt', [q, k]) / np.sqrt(q.shape[-1])\n",
    "        attn = torch.softmax(attn, dim=3)\n",
    "        output = torch.einsum('bhlt,bhtv->bhlv', [attn, v])\n",
    "        output = rearrange(output, 'b head l v -> b l (head v)')\n",
    "        output = self.dropout(self.fc(output))\n",
    "        return output, attn\n",
    "    \n",
    "torch.manual_seed(0)\n",
    "mha = MultiHeadAttention(384, 12).eval()\n",
    "p = torch.randperm(100) # permutation\n",
    "a = torch.randn(10, 100, 384) # random inputs\n",
    "o1, _ = mha(a); o1 = o1[:, p] # p(f(a))\n",
    "o2, _ = mha(a[:, p]) # f(p(a))\n",
    "torch.allclose(o1, o2, atol=1e-4) # prints True"
   ]
  },
  {
   "cell_type": "code",
   "execution_count": null,
   "id": "99ff6777-d874-4df2-86a7-2f2ebe0a3609",
   "metadata": {},
   "outputs": [],
   "source": []
  },
  {
   "cell_type": "code",
   "execution_count": null,
   "id": "f107bb6e-9178-4c12-b25d-0dca15154391",
   "metadata": {},
   "outputs": [],
   "source": []
  },
  {
   "cell_type": "code",
   "execution_count": null,
   "id": "e4348e26-878d-4fc1-bcd4-36660fc12c25",
   "metadata": {},
   "outputs": [],
   "source": []
  }
 ],
 "metadata": {
  "kernelspec": {
   "display_name": "Python 3 (ipykernel)",
   "language": "python",
   "name": "python3"
  },
  "language_info": {
   "codemirror_mode": {
    "name": "ipython",
    "version": 3
   },
   "file_extension": ".py",
   "mimetype": "text/x-python",
   "name": "python",
   "nbconvert_exporter": "python",
   "pygments_lexer": "ipython3",
   "version": "3.9.12"
  }
 },
 "nbformat": 4,
 "nbformat_minor": 5
}
